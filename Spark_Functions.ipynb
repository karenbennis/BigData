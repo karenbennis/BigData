{
  "nbformat": 4,
  "nbformat_minor": 0,
  "metadata": {
    "colab": {
      "name": "Spark Functions.ipynb",
      "provenance": [],
      "collapsed_sections": [],
      "authorship_tag": "ABX9TyMe+WmwkDZA+jW2ShS/TQnP",
      "include_colab_link": true
    },
    "kernelspec": {
      "name": "python3",
      "display_name": "Python 3"
    }
  },
  "cells": [
    {
      "cell_type": "markdown",
      "metadata": {
        "id": "view-in-github",
        "colab_type": "text"
      },
      "source": [
        "<a href=\"https://colab.research.google.com/github/karenbennis/BigData/blob/master/Spark_Functions.ipynb\" target=\"_parent\"><img src=\"https://colab.research.google.com/assets/colab-badge.svg\" alt=\"Open In Colab\"/></a>"
      ]
    },
    {
      "cell_type": "code",
      "metadata": {
        "id": "yCrgbpElRfCS"
      },
      "source": [
        "# Install Java, Spark, and Findspark\n",
        "!apt-get install openjdk-8-jdk-headless -qq > /dev/null\n",
        "!wget -q http://www-us.apache.org/dist/spark/spark-2.4.5/spark-2.4.5-bin-hadoop2.7.tgz\n",
        "!tar xf spark-2.4.5-bin-hadoop2.7.tgz\n",
        "!pip install -q findspark\n",
        "\n",
        "# Set Environment Variables\n",
        "import os\n",
        "os.environ[\"JAVA_HOME\"] = \"/usr/lib/jvm/java-8-openjdk-amd64\"\n",
        "os.environ[\"SPARK_HOME\"] = \"/content/spark-2.4.5-bin-hadoop2.7\"\n",
        "\n",
        "# Start a SparkSession\n",
        "import findspark\n",
        "findspark.init()"
      ],
      "execution_count": null,
      "outputs": []
    },
    {
      "cell_type": "code",
      "metadata": {
        "id": "Y2t1264ARv1e"
      },
      "source": [
        "# Start Spark session\n",
        "from pyspark.sql import SparkSession\n",
        "spark = SparkSession.builder.appName(\"DataFrameFunctions\").getOrCreate()\n"
      ],
      "execution_count": null,
      "outputs": []
    },
    {
      "cell_type": "code",
      "metadata": {
        "id": "SwHYKbJRR0TG",
        "colab": {
          "base_uri": "https://localhost:8080/",
          "height": 468
        },
        "outputId": "1cdf75d4-a99b-40cc-c0ee-cf9cd32801da"
      },
      "source": [
        "# Read in data from S3 Buckets\n",
        "from pyspark import SparkFiles\n",
        "url =\"https://s3.amazonaws.com/dataviz-curriculum/day_1/wine.csv\"\n",
        "spark.sparkContext.addFile(url)\n",
        "df = spark.read.csv(SparkFiles.get(\"wine.csv\"), sep=\",\", header=True)\n",
        "\n",
        "# Show DataFrame\n",
        "df.show()"
      ],
      "execution_count": null,
      "outputs": [
        {
          "output_type": "stream",
          "text": [
            "+-------+--------------------+--------------------+------+-----+------------------+--------------------+-----------------+------------------+--------------------+\n",
            "|country|         description|         designation|points|price|          province|            region_1|         region_2|           variety|              winery|\n",
            "+-------+--------------------+--------------------+------+-----+------------------+--------------------+-----------------+------------------+--------------------+\n",
            "|     US|This tremendous 1...|   Martha's Vineyard|    96|  235|        California|         Napa Valley|             Napa|Cabernet Sauvignon|               Heitz|\n",
            "|  Spain|Ripe aromas of fi...|Carodorum Selecci...|    96|  110|    Northern Spain|                Toro|             null|     Tinta de Toro|Bodega Carmen Rod...|\n",
            "|     US|Mac Watson honors...|Special Selected ...|    96|   90|        California|      Knights Valley|           Sonoma|   Sauvignon Blanc|            Macauley|\n",
            "|     US|This spent 20 mon...|             Reserve|    96|   65|            Oregon|   Willamette Valley|Willamette Valley|        Pinot Noir|               Ponzi|\n",
            "| France|This is the top w...|         La Br��lade|    95|   66|          Provence|              Bandol|             null|Provence red blend|Domaine de la B̩gude|\n",
            "|  Spain|Deep, dense and p...|           Numanthia|    95|   73|    Northern Spain|                Toro|             null|     Tinta de Toro|           Numanthia|\n",
            "|  Spain|Slightly gritty b...|          San Rom��n|    95|   65|    Northern Spain|                Toro|             null|     Tinta de Toro|            Maurodos|\n",
            "|  Spain|Lush cedary black...|Carodorum �_nico ...|    95|  110|    Northern Spain|                Toro|             null|     Tinta de Toro|Bodega Carmen Rod...|\n",
            "|     US|This re-named vin...|              Silice|    95|   65|            Oregon|  Chehalem Mountains|Willamette Valley|        Pinot Noir|           Bergstr̦m|\n",
            "|     US|The producer sour...|Gap's Crown Vineyard|    95|   60|        California|        Sonoma Coast|           Sonoma|        Pinot Noir|           Blue Farm|\n",
            "|  Italy|Elegance, complex...|  Ronco della Chiesa|    95|   80|Northeastern Italy|              Collio|             null|          Friulano|    Borgo del Tiglio|\n",
            "|     US|From 18-year-old ...|Estate Vineyard W...|    95|   48|            Oregon|        Ribbon Ridge|Willamette Valley|        Pinot Noir|Patricia Green Ce...|\n",
            "|     US|A standout even i...|      Weber Vineyard|    95|   48|            Oregon|        Dundee Hills|Willamette Valley|        Pinot Noir|Patricia Green Ce...|\n",
            "| France|This wine is in p...|Ch̢teau Montus Pr...|    95|   90|  Southwest France|             Madiran|             null|            Tannat|   Vignobles Brumont|\n",
            "|     US|With its sophisti...|      Grace Vineyard|    95|  185|            Oregon|        Dundee Hills|Willamette Valley|        Pinot Noir|      Domaine Serene|\n",
            "|     US|First made in 200...|              Sigrid|    95|   90|            Oregon|   Willamette Valley|Willamette Valley|        Chardonnay|           Bergstr̦m|\n",
            "|     US|This blockbuster,...|     Rainin Vineyard|    95|  325|        California|Diamond Mountain ...|             Napa|Cabernet Sauvignon|                Hall|\n",
            "|  Spain|Nicely oaked blac...|6 A̱os Reserva Pr...|    95|   80|    Northern Spain|    Ribera del Duero|             null|       Tempranillo|            Valduero|\n",
            "| France|Coming from a sev...|       Le Pigeonnier|    95|  290|  Southwest France|              Cahors|             null|            Malbec|  Ch̢teau Lagr̩zette|\n",
            "|     US|This fresh and li...|Gap's Crown Vineyard|    95|   75|        California|        Sonoma Coast|           Sonoma|        Pinot Noir|        Gary Farrell|\n",
            "+-------+--------------------+--------------------+------+-----+------------------+--------------------+-----------------+------------------+--------------------+\n",
            "only showing top 20 rows\n",
            "\n"
          ],
          "name": "stdout"
        }
      ]
    },
    {
      "cell_type": "code",
      "metadata": {
        "id": "fbFQTMItR3K6",
        "colab": {
          "base_uri": "https://localhost:8080/",
          "height": 35
        },
        "outputId": "2a170767-88bd-4ead-e0f4-fa670e01d57b"
      },
      "source": [
        "# Order a DataFrame by ascending values\n",
        "df.orderBy(df[\"points\"].desc())"
      ],
      "execution_count": null,
      "outputs": [
        {
          "output_type": "execute_result",
          "data": {
            "text/plain": [
              "DataFrame[country: string, description: string, designation: string, points: string, price: string, province: string, region_1: string, region_2: string, variety: string, winery: string]"
            ]
          },
          "metadata": {
            "tags": []
          },
          "execution_count": 4
        }
      ]
    },
    {
      "cell_type": "code",
      "metadata": {
        "id": "w5DB4V-gSG3a",
        "colab": {
          "base_uri": "https://localhost:8080/",
          "height": 208
        },
        "outputId": "37a340b6-0b07-4e58-b953-dc94c57c8268"
      },
      "source": [
        "# Order a DataFrame by descending values\n",
        "df.orderBy(df[\"points\"].desc()).show(5)"
      ],
      "execution_count": null,
      "outputs": [
        {
          "output_type": "stream",
          "text": [
            "+-------+--------------------+--------------------+------+-----+----------+-----------+--------+--------------------+--------------------+\n",
            "|country|         description|         designation|points|price|  province|   region_1|region_2|             variety|              winery|\n",
            "+-------+--------------------+--------------------+------+-----+----------+-----------+--------+--------------------+--------------------+\n",
            "|     US|This is an absolu...|           IX Estate|    99|  290|California|Napa Valley|    Napa|           Red Blend|              Colgin|\n",
            "| France|98-100 Barrel sam...|       Barrel sample|    99| null|  Bordeaux|   Pauillac|    null|Bordeaux-style Re...|Ch̢teau Pontet-Canet|\n",
            "|     US|There are incredi...|Elevation 1147 Es...|    99|  150|California|Napa Valley|    Napa|  Cabernet Sauvignon|        David Arthur|\n",
            "| France|A magnificent Cha...|Dom P̩rignon Oeno...|    99|  385| Champagne|  Champagne|    null|     Champagne Blend|     Mo��t & Chandon|\n",
            "|  Italy|Even better than ...|             Masseto|    99|  250|   Tuscany|    Toscana|    null|              Merlot|Tenuta dell'Ornel...|\n",
            "+-------+--------------------+--------------------+------+-----+----------+-----------+--------+--------------------+--------------------+\n",
            "only showing top 5 rows\n",
            "\n"
          ],
          "name": "stdout"
        }
      ]
    },
    {
      "cell_type": "code",
      "metadata": {
        "id": "UjouLOzqSWmg",
        "colab": {
          "base_uri": "https://localhost:8080/",
          "height": 1000
        },
        "outputId": "8d10dd91-a00b-4204-9e87-a66eb5ecc8c3"
      },
      "source": [
        "# Order a DataFrame by ascending values\n",
        "df.orderBy(df[\"points\"].asc()).show(50)"
      ],
      "execution_count": null,
      "outputs": [
        {
          "output_type": "stream",
          "text": [
            "+--------------------+--------------------+--------------------+--------------------+--------------------+--------------------+--------------------+--------------------+--------------------+--------------------+\n",
            "|             country|         description|         designation|              points|               price|            province|            region_1|            region_2|             variety|              winery|\n",
            "+--------------------+--------------------+--------------------+--------------------+--------------------+--------------------+--------------------+--------------------+--------------------+--------------------+\n",
            "|                  US|               Ripe |                null|                null|                null|                null|                null|                null|                null|                null|\n",
            "|                  US|Brisk and clean, ...|                null|                null|                null|                null|                null|                null|                null|                null|\n",
            "|                  US|The strong aroma ...|                null|                null|                null|                null|                null|                null|                null|                null|\n",
            "|               Italy|\"This nicely stru...| bitter almond an...|                null|                  88|                  24|  Northeastern Italy|      Venezia Giulia|                null|        Pinot Grigio|\n",
            "|               Italy|This offers gener...|                null|                null|                null|                null|                null|                null|                null|                null|\n",
            "|                  US|This shows a deft...|                null|                null|                null|                null|                null|                null|                null|                null|\n",
            "|           Australia|\"It's beyond me w...| and top it all o...| Sweet Tart aroma...|                null|                  82|                  19|     South Australia|     Langhorne Creek|                null|\n",
            "|           Australia|\"It's beyond me w...| and top it all o...| Sweet Tart aroma...|                null|                  82|                  19|     South Australia|     Langhorne Creek|                null|\n",
            "|           Australia|\"The winery's cel...| break open this ...| and perhaps a li...| wtih dark plum a...| Cab Franc (30%) ...| made nonvintage ...|               Vixen|                  88|                  17|\n",
            "|                  US|\"Rarely does a Ca...|    but here it does| and who should c...| round and delici...|       Grand Reserve|                  93|                  60|          California|          California|\n",
            "|         New Zealand|\"Produced from \"\"...| Riesling offers ...| apple and pear a...| you might expect...| but thanks to cr...| it's not cloying...| well-balanced wi...|Desert Gold Late ...|                  86|\n",
            "|         New Zealand|\"Produced from \"\"...| Riesling offers ...| apple and pear a...| you might expect...| but thanks to cr...| it's not cloying...| well-balanced wi...|Desert Gold Late ...|                  86|\n",
            "|         New Zealand|\"Produced from \"\"...| Riesling offers ...| apple and pear a...| you might expect...| but thanks to cr...| it's not cloying...| well-balanced wi...|Desert Gold Late ...|                  86|\n",
            "|               Italy|\"Made with a blen...| black pepper and...| biodynamic and o...|       Munjebel 7 VA|                  91|                  50|   Sicily & Sardinia|                Etna|                null|\n",
            "|           Australia|\"For the price, t...|\"\" as Australians...| chocolate and ce...| balanced by savo...|     D Block Reserve|                  92|                  50|     South Australia|        McLaren Vale|\n",
            "|                  US|\"Note the \"\"Bened...| from a time when...| cloudy with sedi...|               anise|          sweet beet|          smoky char|          spice. Dry|         full-bodied| rich in dark che...|\n",
            "|                  US|\"Takes all of the...|                plum| coffee and mocha...| a thick texture ...|        Andy's Field|                  89|                  27|            New York|North Fork of Lon...|\n",
            "|                  US|\"Takes all of the...|                plum| coffee and mocha...| a thick texture ...|        Andy's Field|                  89|                  27|            New York|North Fork of Lon...|\n",
            "|                  US|\"The word \"\"black...|              coffee| currant. Cola is...| and creamy and r...| with excellent w...|        Sunshine Vyd|                  93|                  95|          California|\n",
            "|                  US|\"For this winery'...| it shines bright...| espresso bean an...| with just the sl...|                null|                  92|                  35|          California|         Napa Valley|\n",
            "|             Germany|\"This rather rust...| simple and earth...| fermenting-hay n...| continues into t...| it might work wi...|      Qualit�_tswein|                  82|                  12|               Baden|\n",
            "|             Germany|\"This rather rust...| simple and earth...| fermenting-hay n...| continues into t...| it might work wi...|      Qualit�_tswein|                  82|                  12|               Baden|\n",
            "|              France|\"The nose is domi...| and at this poin...|   given the price.\"|         Les Charmes|                  87|                  65|            Burgundy|   Chambolle-Musigny|                null|\n",
            "|              France|\"The nose is domi...| and at this poin...|   given the price.\"|         Les Charmes|                  87|                  65|            Burgundy|   Chambolle-Musigny|                null|\n",
            "|                  US|\"Noceto is a Sang...| which dates back...| good and juicy w...| but also tannic ...|          dusty even| with a hint of m...|OGP - The Origina...|                  88|                  29|\n",
            "|             Austria|         \"\"\"Chremisa|\"\" the ancient na...| is commemorated ...| tangy apple-driv...|       with a bright|               light| citrusy characte...|Edition Chremisa ...|                  85|\n",
            "|                  US|\"I called the '04...| and this wine se...| it suffers from ...| raisiny flavors ...|  Clos Pepe Vineyard|                  82|                  40|          California|     Sta. Rita Hills|\n",
            "|                  US|\"This oddball gra...| concentrated aro...|     kiwi and orange| with a noticeabl...|         big flavors| and a lot of wei...|                null|                  84|                  18|\n",
            "|blackberry and bl...| which is rich in...| smoky oak. But i...|       so drink up.\"|       Artist Series|                  87|                  60|          California|       Sonoma County|              Sonoma|\n",
            "|                  US|\"This Cabernet-Me...| which in this ca...| the wine should ...|Estate Monte Bell...|                  95|                  40|          California|Santa Cruz Mountains|       Central Coast|\n",
            "|           Australia|\"Gemtree's \"\"regu...|        the Obsidian| though the latte...| and good intensi...| smoky flavors po...|               Uncut|                  89|                  28|     South Australia|\n",
            "|            Portugal|\"\"\"New moon on ol...|           ripe wine|       very textured| complex. It has ...|  laced with acidity| very firmly anch...|Lua Nova em Vinha...|                  91|                  15|\n",
            "|           Australia|\"Light green pea ...|             he says| will get more oak.\"|                null|                  87|                  13|     South Australia|        McLaren Vale|                null|\n",
            "|                  US|\"The flagship of ...| chewier finish t...| with aromas and ...|              cassis|             tobacco| cedar and a mult...| starting in 2010...|Limited Release I...|                  93|\n",
            "|                  US|\"The flagship of ...| chewier finish t...| with aromas and ...|              cassis|             tobacco| cedar and a mult...| starting in 2010...|Limited Release I...|                  93|\n",
            "|                  US|\"The flagship of ...| chewier finish t...| with aromas and ...|              cassis|             tobacco| cedar and a mult...| starting in 2010...|Limited Release I...|                  93|\n",
            "|              France|\"A curious connec...| the wine itself ...| with aromas of h...|   layers of acidity|    a touch of toast| but still retain...|  Cuv̩e Pr̩dilection|                  90|                null|\n",
            "|              France|\"A curious connec...| the wine itself ...| with aromas of h...|   layers of acidity|    a touch of toast| but still retain...|  Cuv̩e Pr̩dilection|                  90|                null|\n",
            "|                  US|Impossibly aromat...|            Red Wine|                 100|                 245|          California|          Rutherford|                Napa|      Cabernet Blend|               Sloan|\n",
            "|                  US|In a stunning lin...|En Chamberlin Vin...|                 100|                  65|              Oregon|Walla Walla Valle...|        Oregon Other|               Syrah|              Cayuse|\n",
            "|           Australia|Not a Cellar Sele...|                Rare|                 100|                 300|            Victoria|          Rutherglen|                null|              Muscat|Chambers Rosewood...|\n",
            "|              France|A wine that has c...|      Clos du Mesnil|                 100|                1400|           Champagne|           Champagne|                null|          Chardonnay|                Krug|\n",
            "|                  US|In a stunning lin...|En Chamberlin Vin...|                 100|                  65|              Oregon|Walla Walla Valle...|        Oregon Other|               Syrah|              Cayuse|\n",
            "|                  US|Tasted in a fligh...|                null|                 100|                 200|          California|         Napa Valley|                Napa|  Cabernet Sauvignon|           Cardinale|\n",
            "|                  US|Impossibly aromat...|            Red Wine|                 100|                 245|          California|          Rutherford|                Napa|      Cabernet Blend|               Sloan|\n",
            "|              France|Full of ripe frui...|                null|                 100|                 848|            Bordeaux|      Pessac-L̩ognan|                null|Bordeaux-style Wh...|  Ch̢teau Haut-Brion|\n",
            "|                  US|A perfect score h...|     Hillside Select|                 100|                 215|          California| Stags Leap District|                Napa|  Cabernet Sauvignon|              Shafer|\n",
            "|                  US|A spectacular Pin...|Litton Estate Vin...|                 100|                 100|          California|Russian River Valley|              Sonoma|          Pinot Noir|     Williams Selyem|\n",
            "|           Australia|Not a Cellar Sele...|                Rare|                 100|                 300|            Victoria|          Rutherglen|                null|              Muscat|Chambers Rosewood...|\n",
            "|               Italy|This small, famil...|    Guado de' Gemoli|                 100|                 195|             Tuscany|  Bolgheri Superiore|                null|           Red Blend|  Giovanni Chiappini|\n",
            "+--------------------+--------------------+--------------------+--------------------+--------------------+--------------------+--------------------+--------------------+--------------------+--------------------+\n",
            "only showing top 50 rows\n",
            "\n"
          ],
          "name": "stdout"
        }
      ]
    },
    {
      "cell_type": "code",
      "metadata": {
        "id": "0f8tJG2oSzCr",
        "colab": {
          "base_uri": "https://localhost:8080/",
          "height": 121
        },
        "outputId": "b1b7ae26-3b09-42c8-fc53-3bd3f56eff24"
      },
      "source": [
        "# Import functions\n",
        "from pyspark.sql.functions import avg\n",
        "df.select(avg('points')).show()"
      ],
      "execution_count": null,
      "outputs": [
        {
          "output_type": "stream",
          "text": [
            "+-----------------+\n",
            "|      avg(points)|\n",
            "+-----------------+\n",
            "|87.88834105383143|\n",
            "+-----------------+\n",
            "\n"
          ],
          "name": "stdout"
        }
      ]
    },
    {
      "cell_type": "code",
      "metadata": {
        "id": "0sxHYMN4TiUt",
        "colab": {
          "base_uri": "https://localhost:8080/",
          "height": 208
        },
        "outputId": "20c2706e-186f-46a5-9eb2-3018a68cdeb6"
      },
      "source": [
        "# Filter by price on certain columns\n",
        "df.filter(\"price<20\").select(['points', 'country', 'winery', 'price']).show(5)"
      ],
      "execution_count": null,
      "outputs": [
        {
          "output_type": "stream",
          "text": [
            "+------+--------+--------------------+-----+\n",
            "|points| country|              winery|price|\n",
            "+------+--------+--------------------+-----+\n",
            "|    90|Bulgaria|        Villa Melnik|   15|\n",
            "|    90|   Spain|      Don Bernardino|   17|\n",
            "|    90|      US|            De Loach|   18|\n",
            "|    91|      US|   Trinity Vineyards|   19|\n",
            "|    91|Portugal|Adega Cooperativa...|   15|\n",
            "+------+--------+--------------------+-----+\n",
            "only showing top 5 rows\n",
            "\n"
          ],
          "name": "stdout"
        }
      ]
    },
    {
      "cell_type": "code",
      "metadata": {
        "id": "ztE-wIbcUD3o",
        "colab": {
          "base_uri": "https://localhost:8080/",
          "height": 849
        },
        "outputId": "0e649af1-a22c-4f14-af0b-e007e48fd7ab"
      },
      "source": [
        "# Filter\n",
        "df.filter(\"price<20\").show(5)\n",
        "# Filter by price on certain columns\n",
        "df.filter(\"price<20\").select(['points','country', 'winery','price']).show(5)\n",
        "\n",
        "# Filter on exact state\n",
        "df.filter(df[\"country\"] == \"US\").show()\n"
      ],
      "execution_count": null,
      "outputs": [
        {
          "output_type": "stream",
          "text": [
            "+--------+--------------------+-----------+------+-----+----------+--------------------+-----------------+--------------+--------------------+\n",
            "| country|         description|designation|points|price|  province|            region_1|         region_2|       variety|              winery|\n",
            "+--------+--------------------+-----------+------+-----+----------+--------------------+-----------------+--------------+--------------------+\n",
            "|Bulgaria|This Bulgarian Ma...|    Bergul̩|    90|   15|  Bulgaria|                null|             null|        Mavrud|        Villa Melnik|\n",
            "|   Spain|Earthy plum and c...|     Amandi|    90|   17|   Galicia|       Ribeira Sacra|             null|       Menc�_a|      Don Bernardino|\n",
            "|      US|There's a lot to ...|       null|    90|   18|California|Russian River Valley|           Sonoma|    Chardonnay|            De Loach|\n",
            "|      US|Massively fruity,...|       null|    91|   19|    Oregon|   Willamette Valley|Willamette Valley|    Pinot Gris|   Trinity Vineyards|\n",
            "|Portugal|It is the ripe da...|    Premium|    91|   15|  Alentejo|                null|             null|Portuguese Red|Adega Cooperativa...|\n",
            "+--------+--------------------+-----------+------+-----+----------+--------------------+-----------------+--------------+--------------------+\n",
            "only showing top 5 rows\n",
            "\n",
            "+------+--------+--------------------+-----+\n",
            "|points| country|              winery|price|\n",
            "+------+--------+--------------------+-----+\n",
            "|    90|Bulgaria|        Villa Melnik|   15|\n",
            "|    90|   Spain|      Don Bernardino|   17|\n",
            "|    90|      US|            De Loach|   18|\n",
            "|    91|      US|   Trinity Vineyards|   19|\n",
            "|    91|Portugal|Adega Cooperativa...|   15|\n",
            "+------+--------+--------------------+-----+\n",
            "only showing top 5 rows\n",
            "\n",
            "+-------+--------------------+--------------------+------+-----+----------+--------------------+-----------------+------------------+--------------------+\n",
            "|country|         description|         designation|points|price|  province|            region_1|         region_2|           variety|              winery|\n",
            "+-------+--------------------+--------------------+------+-----+----------+--------------------+-----------------+------------------+--------------------+\n",
            "|     US|This tremendous 1...|   Martha's Vineyard|    96|  235|California|         Napa Valley|             Napa|Cabernet Sauvignon|               Heitz|\n",
            "|     US|Mac Watson honors...|Special Selected ...|    96|   90|California|      Knights Valley|           Sonoma|   Sauvignon Blanc|            Macauley|\n",
            "|     US|This spent 20 mon...|             Reserve|    96|   65|    Oregon|   Willamette Valley|Willamette Valley|        Pinot Noir|               Ponzi|\n",
            "|     US|This re-named vin...|              Silice|    95|   65|    Oregon|  Chehalem Mountains|Willamette Valley|        Pinot Noir|           Bergstr̦m|\n",
            "|     US|The producer sour...|Gap's Crown Vineyard|    95|   60|California|        Sonoma Coast|           Sonoma|        Pinot Noir|           Blue Farm|\n",
            "|     US|From 18-year-old ...|Estate Vineyard W...|    95|   48|    Oregon|        Ribbon Ridge|Willamette Valley|        Pinot Noir|Patricia Green Ce...|\n",
            "|     US|A standout even i...|      Weber Vineyard|    95|   48|    Oregon|        Dundee Hills|Willamette Valley|        Pinot Noir|Patricia Green Ce...|\n",
            "|     US|With its sophisti...|      Grace Vineyard|    95|  185|    Oregon|        Dundee Hills|Willamette Valley|        Pinot Noir|      Domaine Serene|\n",
            "|     US|First made in 200...|              Sigrid|    95|   90|    Oregon|   Willamette Valley|Willamette Valley|        Chardonnay|           Bergstr̦m|\n",
            "|     US|This blockbuster,...|     Rainin Vineyard|    95|  325|California|Diamond Mountain ...|             Napa|Cabernet Sauvignon|                Hall|\n",
            "|     US|This fresh and li...|Gap's Crown Vineyard|    95|   75|California|        Sonoma Coast|           Sonoma|        Pinot Noir|        Gary Farrell|\n",
            "|     US|Heitz has made th...|          Grignolino|    95|   24|California|         Napa Valley|             Napa|              Ros̩|               Heitz|\n",
            "|     US|The apogee of thi...|       Giallo Solare|    95|   60|California|         Edna Valley|    Central Coast|        Chardonnay|    Center of Effort|\n",
            "|     US|San Jose-based pr...|       R-Bar-R Ranch|    95|   45|California|Santa Cruz Mountains|    Central Coast|        Pinot Noir|            Comartin|\n",
            "|     US|Bergstr̦m has mad...|       Shea Vineyard|    94|   62|    Oregon|   Willamette Valley|             null|        Pinot Noir|           Bergstr̦m|\n",
            "|     US|Focused and dense...|             Abetina|    94|  105|    Oregon|   Willamette Valley|Willamette Valley|        Pinot Noir|               Ponzi|\n",
            "|     US|Cranberry, baked ...|     Garys' Vineyard|    94|   60|California|Santa Lucia Highl...|    Central Coast|        Pinot Noir|                Roar|\n",
            "|     US|This standout Roc...|     The Funk Estate|    94|   60|Washington|Walla Walla Valle...|  Columbia Valley|             Syrah|              Saviah|\n",
            "|     US|Steely and perfum...|            Babushka|    90|   37|California|Russian River Valley|           Sonoma|        Chardonnay|            Zepaltas|\n",
            "|     US|The aromas entice...| Conner Lee Vineyard|    90|   42|Washington|Columbia Valley (WA)|  Columbia Valley|        Chardonnay|                Buty|\n",
            "+-------+--------------------+--------------------+------+-----+----------+--------------------+-----------------+------------------+--------------------+\n",
            "only showing top 20 rows\n",
            "\n"
          ],
          "name": "stdout"
        }
      ]
    },
    {
      "cell_type": "code",
      "metadata": {
        "id": "Q2ZxwQtJUR6L",
        "colab": {
          "base_uri": "https://localhost:8080/",
          "height": 468
        },
        "outputId": "0435b61a-7415-4e6f-c616-1b7fd185d50e"
      },
      "source": [
        "# SKILL DRILL Using both the SQL and Python context, use filtering to find the rows that contain a bottle of wine over $15 and that comes from California.\n",
        "df.filter(df[\"province\"] == \"California\").filter(\"price>15\").select('points', 'province', 'winery', 'price').show()"
      ],
      "execution_count": null,
      "outputs": [
        {
          "output_type": "stream",
          "text": [
            "+------+----------+--------------------+-----+\n",
            "|points|  province|              winery|price|\n",
            "+------+----------+--------------------+-----+\n",
            "|    96|California|               Heitz|  235|\n",
            "|    96|California|            Macauley|   90|\n",
            "|    95|California|           Blue Farm|   60|\n",
            "|    95|California|                Hall|  325|\n",
            "|    95|California|        Gary Farrell|   75|\n",
            "|    95|California|               Heitz|   24|\n",
            "|    95|California|    Center of Effort|   60|\n",
            "|    95|California|            Comartin|   45|\n",
            "|    94|California|                Roar|   60|\n",
            "|    90|California|            Zepaltas|   37|\n",
            "|    90|California|            Brandlin|   60|\n",
            "|    90|California|            De Loach|   18|\n",
            "|    91|California|      Jason-Stephens|   36|\n",
            "|    91|California|Michael Mondavi F...|   85|\n",
            "|    91|California|Provenance Vineyards|   60|\n",
            "|    91|California|             Raymond|   85|\n",
            "|    91|California|             Red Car|   45|\n",
            "|    91|California|           B Cellars|   38|\n",
            "|    91|California|              B Side|   28|\n",
            "|    91|California|          Eagle Glen|   22|\n",
            "+------+----------+--------------------+-----+\n",
            "only showing top 20 rows\n",
            "\n"
          ],
          "name": "stdout"
        }
      ]
    },
    {
      "cell_type": "code",
      "metadata": {
        "id": "29raJ8lkVPCj"
      },
      "source": [
        ""
      ],
      "execution_count": null,
      "outputs": []
    }
  ]
}