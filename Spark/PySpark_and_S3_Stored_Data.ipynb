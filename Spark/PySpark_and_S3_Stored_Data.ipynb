{
  "nbformat": 4,
  "nbformat_minor": 0,
  "metadata": {
    "colab": {
      "name": "PySpark and S3 Stored Data.ipynb",
      "provenance": [],
      "authorship_tag": "ABX9TyNTts2BtR9SyfxfhKBQnsWh",
      "include_colab_link": true
    },
    "kernelspec": {
      "name": "python3",
      "display_name": "Python 3"
    }
  },
  "cells": [
    {
      "cell_type": "markdown",
      "metadata": {
        "id": "view-in-github",
        "colab_type": "text"
      },
      "source": [
        "<a href=\"https://colab.research.google.com/github/karenbennis/BigData/blob/master/PySpark_and_S3_Stored_Data.ipynb\" target=\"_parent\"><img src=\"https://colab.research.google.com/assets/colab-badge.svg\" alt=\"Open In Colab\"/></a>"
      ]
    },
    {
      "cell_type": "code",
      "metadata": {
        "id": "rdDwmM1jJ66i"
      },
      "source": [
        "# Install Java, Spark, and Findspark\n",
        "!apt-get install openjdk-8-jdk-headless -qq > /dev/null\n",
        "!wget -q http://www-us.apache.org/dist/spark/spark-2.4.5/spark-2.4.5-bin-hadoop2.7.tgz\n",
        "!tar xf spark-2.4.5-bin-hadoop2.7.tgz\n",
        "!pip install -q findspark\n",
        "\n",
        "# Set Environment Variables\n",
        "import os\n",
        "os.environ[\"JAVA_HOME\"] = \"/usr/lib/jvm/java-8-openjdk-amd64\"\n",
        "os.environ[\"SPARK_HOME\"] = \"/content/spark-2.4.5-bin-hadoop2.7\"\n",
        "\n",
        "# Start a SparkSession\n",
        "import findspark\n",
        "findspark.init()"
      ],
      "execution_count": null,
      "outputs": []
    },
    {
      "cell_type": "code",
      "metadata": {
        "id": "i4WRNTcFKOmn"
      },
      "source": [
        "# Start Spark session\n",
        "from pyspark.sql import SparkSession\n",
        "spark = SparkSession.builder.appName(\"PySparkS3StoredData\").getOrCreate()"
      ],
      "execution_count": null,
      "outputs": []
    },
    {
      "cell_type": "code",
      "metadata": {
        "id": "mOhIgonMKdX2",
        "colab": {
          "base_uri": "https://localhost:8080/",
          "height": 468
        },
        "outputId": "b8dc52cc-4a64-48ef-b23e-77287304b49f"
      },
      "source": [
        "# Read in data from S3 Buckets\n",
        "from pyspark import SparkFiles\n",
        "url = \"https://databootcamp-karenbennis-bucket.s3.us-east-2.amazonaws.com/Datasets/election_results.csv\"\n",
        "spark.sparkContext.addFile(url)\n",
        "df = spark.read.csv(SparkFiles.get(\"election_results.csv\"), sep=\",\", header=True)\n",
        "\n",
        "# Show DataFrame\n",
        "df.show()"
      ],
      "execution_count": null,
      "outputs": [
        {
          "output_type": "stream",
          "text": [
            "+---------+---------+--------------------+\n",
            "|Ballot ID|   County|           Candidate|\n",
            "+---------+---------+--------------------+\n",
            "|  1323913|Jefferson|Charles Casper St...|\n",
            "|  1005842|Jefferson|Charles Casper St...|\n",
            "|  1880345|Jefferson|Charles Casper St...|\n",
            "|  1600337|Jefferson|Charles Casper St...|\n",
            "|  1835994|Jefferson|Charles Casper St...|\n",
            "|  1772756|Jefferson|Charles Casper St...|\n",
            "|  1920023|Jefferson|Charles Casper St...|\n",
            "|  1040408|Jefferson|Charles Casper St...|\n",
            "|  1018414|Jefferson|Charles Casper St...|\n",
            "|  1361118|Jefferson|Charles Casper St...|\n",
            "|  1045722|Jefferson|Charles Casper St...|\n",
            "|  1006975|Jefferson|Charles Casper St...|\n",
            "|  1489642|Jefferson|Charles Casper St...|\n",
            "|  1456389|Jefferson|Charles Casper St...|\n",
            "|  1936969|Jefferson|Charles Casper St...|\n",
            "|  1356658|Jefferson|Charles Casper St...|\n",
            "|  1651667|Jefferson|Charles Casper St...|\n",
            "|  1833621|Jefferson|Charles Casper St...|\n",
            "|  1730001|Jefferson|Charles Casper St...|\n",
            "|  1059252|Jefferson|Charles Casper St...|\n",
            "+---------+---------+--------------------+\n",
            "only showing top 20 rows\n",
            "\n"
          ],
          "name": "stdout"
        }
      ]
    },
    {
      "cell_type": "code",
      "metadata": {
        "id": "FQf5V7GPMTeV"
      },
      "source": [
        ""
      ],
      "execution_count": null,
      "outputs": []
    }
  ]
}