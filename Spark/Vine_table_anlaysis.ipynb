{
  "nbformat": 4,
  "nbformat_minor": 0,
  "metadata": {
    "colab": {
      "name": "Vine_table_anlaysis.ipynb",
      "provenance": [],
      "authorship_tag": "ABX9TyMxxf9PUwJd8OWej1f0MMAT",
      "include_colab_link": true
    },
    "kernelspec": {
      "name": "python3",
      "display_name": "Python 3"
    }
  },
  "cells": [
    {
      "cell_type": "markdown",
      "metadata": {
        "id": "view-in-github",
        "colab_type": "text"
      },
      "source": [
        "<a href=\"https://colab.research.google.com/github/karenbennis/BigData/blob/master/Vine_table_anlaysis.ipynb\" target=\"_parent\"><img src=\"https://colab.research.google.com/assets/colab-badge.svg\" alt=\"Open In Colab\"/></a>"
      ]
    },
    {
      "cell_type": "code",
      "metadata": {
        "id": "ZgZKr90iXNtU"
      },
      "source": [
        "# Install Java, Spark, and Findspark\n",
        "!apt-get install openjdk-8-jdk-headless -qq > /dev/null\n",
        "!wget -q http://www-us.apache.org/dist/spark/spark-2.4.5/spark-2.4.5-bin-hadoop2.7.tgz\n",
        "!tar xf spark-2.4.5-bin-hadoop2.7.tgz\n",
        "!pip install -q findspark\n",
        "\n",
        "# Set Environment Variables\n",
        "import os\n",
        "os.environ[\"JAVA_HOME\"] = \"/usr/lib/jvm/java-8-openjdk-amd64\"\n",
        "os.environ[\"SPARK_HOME\"] = \"/content/spark-2.4.5-bin-hadoop2.7\"\n",
        "\n",
        "# Start a SparkSession\n",
        "import findspark\n",
        "findspark.init()"
      ],
      "execution_count": null,
      "outputs": []
    },
    {
      "cell_type": "code",
      "metadata": {
        "id": "Ux8OAtNUXXtK",
        "colab": {
          "base_uri": "https://localhost:8080/",
          "height": 208
        },
        "outputId": "c2180e09-a9bd-404f-9429-66a8e47f8ed0"
      },
      "source": [
        "# Download a Postgres driver that will allow Spark to interact with Postgres\n",
        "!wget https://jdbc.postgresql.org/download/postgresql-42.2.9.jar"
      ],
      "execution_count": null,
      "outputs": [
        {
          "output_type": "stream",
          "text": [
            "--2020-06-13 20:49:16--  https://jdbc.postgresql.org/download/postgresql-42.2.9.jar\n",
            "Resolving jdbc.postgresql.org (jdbc.postgresql.org)... 72.32.157.228, 2001:4800:3e1:1::228\n",
            "Connecting to jdbc.postgresql.org (jdbc.postgresql.org)|72.32.157.228|:443... connected.\n",
            "HTTP request sent, awaiting response... 200 OK\n",
            "Length: 914037 (893K) [application/java-archive]\n",
            "Saving to: ‘postgresql-42.2.9.jar’\n",
            "\n",
            "postgresql-42.2.9.j 100%[===================>] 892.61K  3.60MB/s    in 0.2s    \n",
            "\n",
            "2020-06-13 20:49:17 (3.60 MB/s) - ‘postgresql-42.2.9.jar’ saved [914037/914037]\n",
            "\n"
          ],
          "name": "stdout"
        }
      ]
    },
    {
      "cell_type": "code",
      "metadata": {
        "id": "mIGqUiaXXbCO"
      },
      "source": [
        "from pyspark.sql import SparkSession\n",
        "spark = SparkSession.builder.appName(\"ChallengeETL\").config(\"spark.driver.extraClassPath\",\"/content/postgresql-42.2.9.jar\").getOrCreate()"
      ],
      "execution_count": null,
      "outputs": []
    },
    {
      "cell_type": "code",
      "metadata": {
        "id": "iuhDv0PzXfES"
      },
      "source": [
        "# Configure settings for RDS\n",
        "jdbc_url=\"jdbc:postgresql://dataviz.cigpctobxd5d.us-east-2.rds.amazonaws.com:5432/\"\n",
        "config = {\"user\":\"postgres\", \n",
        "          \"password\": \"jack1257\", \n",
        "          \"driver\":\"org.postgresql.Driver\"}"
      ],
      "execution_count": null,
      "outputs": []
    },
    {
      "cell_type": "code",
      "metadata": {
        "id": "YgdrsbqMXnAo",
        "colab": {
          "base_uri": "https://localhost:8080/",
          "height": 468
        },
        "outputId": "5e4a813a-44fa-4eee-c43c-26e25f6603d1"
      },
      "source": [
        "# Read in vine_table from Postgres\n",
        "vine_df = spark.read.jdbc(jdbc_url, \"vine_table\", properties=config)\n",
        "vine_df.show()"
      ],
      "execution_count": null,
      "outputs": [
        {
          "output_type": "stream",
          "text": [
            "+--------------+-----------+-------------+-----------+----+\n",
            "|     review_id|star_rating|helpful_votes|total_votes|vine|\n",
            "+--------------+-----------+-------------+-----------+----+\n",
            "| RY01SAV7HZ8QO|          4|            0|          0|   N|\n",
            "|R1XX8SDGJ4MZ4L|          5|            0|          0|   N|\n",
            "|R149Q3B5L33NN5|          5|            0|          0|   N|\n",
            "|R2ZVD69Z6KPJ4O|          1|            0|          2|   N|\n",
            "|R1DIKG2G33ZLNP|          4|            0|          0|   N|\n",
            "|R3L6FGKAW0EYFI|          1|            1|          1|   N|\n",
            "| RAO0QZH5VC6VI|          1|            0|          0|   N|\n",
            "|R25IK0UAHWNB22|          3|            0|          0|   N|\n",
            "|R2A9IHKZMTMAL1|          5|            1|          2|   N|\n",
            "| R5XVKTHL6SITI|          5|            0|          0|   N|\n",
            "|R2QZZOSTDDY1IE|          3|            3|          6|   N|\n",
            "|R38CUDCFPSNYTD|          5|            0|          0|   N|\n",
            "| RM6ZR6NH052YH|          3|            1|          2|   N|\n",
            "| RUQK5N4WH8UN8|          5|            0|          0|   N|\n",
            "|R21LWSBQWWJYZ3|          5|            0|          0|   N|\n",
            "| R8W5S53RQ2DF7|          5|            0|          0|   N|\n",
            "|R3ENME3JQBWXZS|          5|            0|          1|   N|\n",
            "|R3URL5K7DHHYK7|          5|            1|          1|   N|\n",
            "|R22YISZKS35YZX|          5|            2|          3|   N|\n",
            "|R3IIOLWHWC297U|          5|            0|          0|   N|\n",
            "+--------------+-----------+-------------+-----------+----+\n",
            "only showing top 20 rows\n",
            "\n"
          ],
          "name": "stdout"
        }
      ]
    },
    {
      "cell_type": "markdown",
      "metadata": {
        "id": "pUaE7LBpaGmf"
      },
      "source": [
        "# **Analysis of vine_df (aka vine_table)**"
      ]
    },
    {
      "cell_type": "code",
      "metadata": {
        "id": "uUjq_fgaaIW8",
        "colab": {
          "base_uri": "https://localhost:8080/",
          "height": 1000
        },
        "outputId": "c47e83d3-3039-42ab-8bd7-fb235c32bf84"
      },
      "source": [
        "# Make separate DataFrames for reviews based on whether or not the review is a vine review\n",
        "\n",
        "# Filter table for rows where review is a vine review\n",
        "vine_review_df = vine_df.filter(vine_df[\"vine\"] == 'Y')\n",
        "# Order by helpful votes\n",
        "vine_review_df= vine_review_df.orderBy(vine_review_df['helpful_votes'].desc())\n",
        "# Show the vine_review_df\n",
        "vine_review_df.show()\n",
        "# Count number of rows in vine_review_df\n",
        "vine_review_df.count()\n",
        "# Get summary stats for vine reviews\n",
        "vine_review_stats = vine_review_df.describe()\n",
        "vine_review_stats.show()\n",
        "\n",
        "# Filter table for rows where review is not a vine review\n",
        "non_vine_review_df = vine_df.filter(vine_df[\"vine\"] == 'N')\n",
        "# Order by helpful votes\n",
        "non_vine_review_df= non_vine_review_df.orderBy(non_vine_review_df['helpful_votes'].desc())\n",
        "# Show the non_vine_review_df\n",
        "non_vine_review_df.show()\n",
        "# Count number of rows in non_vine_review_df\n",
        "non_vine_review_df.count()\n",
        "# Get summary stats for non-vine reviews\n",
        "non_vine_review_stats = non_vine_review_df.describe()\n",
        "non_vine_review_stats.show()"
      ],
      "execution_count": null,
      "outputs": [
        {
          "output_type": "stream",
          "text": [
            "+--------------+-----------+-------------+-----------+----+\n",
            "|     review_id|star_rating|helpful_votes|total_votes|vine|\n",
            "+--------------+-----------+-------------+-----------+----+\n",
            "|R2JYDQZPWVTH7R|          4|         1751|       1861|   Y|\n",
            "| RZ48DAKK0QPDX|          4|          656|        694|   Y|\n",
            "|R2ST3UKU0JFLR6|          5|          586|        606|   Y|\n",
            "|R2L0G0XRXWBY2X|          3|          494|        520|   Y|\n",
            "|R34F7I0N94G97C|          5|          446|        472|   Y|\n",
            "|R2OFR7E2RI196K|          5|          388|        449|   Y|\n",
            "| RGWV3QLJQXU9X|          5|          332|        380|   Y|\n",
            "|R122J9QGFCZTR0|          5|          324|        342|   Y|\n",
            "|R38RLM92AHWLPF|          5|          284|        301|   Y|\n",
            "|R2H24YTRLARCZJ|          4|          277|        297|   Y|\n",
            "|R1OSNVALVQIZEK|          4|          277|        297|   Y|\n",
            "|R13ESDYL0P5EYC|          4|          272|        313|   Y|\n",
            "| RQF84KLBP0RHF|          5|          272|        303|   Y|\n",
            "| RD0E1RZSSYGGN|          5|          261|        292|   Y|\n",
            "|R1S3TROV2G213G|          4|          260|        267|   Y|\n",
            "|R2SBR4AG9G4G4H|          4|          242|        250|   Y|\n",
            "|R2CSUT160AGUDI|          4|          242|        256|   Y|\n",
            "|R3C8ZNLM5UOROI|          3|          217|        234|   Y|\n",
            "|R37GDBIPTER2CU|          5|          203|        210|   Y|\n",
            "|R1KXCMB5A4LVE2|          1|          193|        241|   Y|\n",
            "+--------------+-----------+-------------+-----------+----+\n",
            "only showing top 20 rows\n",
            "\n",
            "+-------+--------------+------------------+------------------+------------------+----+\n",
            "|summary|     review_id|       star_rating|     helpful_votes|       total_votes|vine|\n",
            "+-------+--------------+------------------+------------------+------------------+----+\n",
            "|  count|          2106|              2106|              2106|              2106|2106|\n",
            "|   mean|          null| 4.073599240265907|11.934947768281102| 14.46343779677113|null|\n",
            "| stddev|          null|0.9862696623724604|53.570847213619054|57.495816990097964|null|\n",
            "|    min|R102497GDJGG39|                 1|                 0|                 0|   Y|\n",
            "|    max| RZYKIMBPGFY0N|                 5|              1751|              1861|   Y|\n",
            "+-------+--------------+------------------+------------------+------------------+----+\n",
            "\n",
            "+--------------+-----------+-------------+-----------+----+\n",
            "|     review_id|star_rating|helpful_votes|total_votes|vine|\n",
            "+--------------+-----------+-------------+-----------+----+\n",
            "|R1E4ES1MR64TVI|          5|        10020|      10462|   N|\n",
            "| R46J4PFCGPCJ7|          5|         7564|       7854|   N|\n",
            "| RA1DUT58FNLNX|          4|         7228|       7911|   N|\n",
            "|R1LX3I0YLAQJJQ|          5|         7170|       7662|   N|\n",
            "|R2L9HN8REXAAN6|          5|         7154|       7490|   N|\n",
            "|R1ZPXBKTYAMN25|          1|         5937|       6471|   N|\n",
            "| RJ0BES0I3OHXN|          5|         5372|       5683|   N|\n",
            "|R10324LW9R08XZ|          5|         5263|       5357|   N|\n",
            "|R1905PDEZ1CIHQ|          5|         5202|       5430|   N|\n",
            "|R30C461L39YLF8|          4|         4939|       4999|   N|\n",
            "|R32I98JASZGB8D|          4|         3627|       3801|   N|\n",
            "|R2B25O0TNDSL26|          5|         3488|       3604|   N|\n",
            "|R2Z1JJHPMGQCIZ|          5|         3482|       4058|   N|\n",
            "|R25762TKJ7KH4I|          3|         3458|       3730|   N|\n",
            "|R2RJ027JAOMF5I|          5|         3387|       3646|   N|\n",
            "|R38RQLZVFEWVZE|          5|         3265|       3619|   N|\n",
            "|R3J3RDH5QXHZ9X|          5|         3137|       3374|   N|\n",
            "|R3PKR8AD71F0CI|          5|         3058|       3202|   N|\n",
            "|R3RABS3UJNFDZL|          3|         2967|       3293|   N|\n",
            "| R8LWEW3H3RYWN|          5|         2942|       3260|   N|\n",
            "+--------------+-----------+-------------+-----------+----+\n",
            "only showing top 20 rows\n",
            "\n",
            "+-------+--------------+------------------+------------------+------------------+------+\n",
            "|summary|     review_id|       star_rating|     helpful_votes|       total_votes|  vine|\n",
            "+-------+--------------+------------------+------------------+------------------+------+\n",
            "|  count|        703744|            703744|            703744|            703744|703744|\n",
            "|   mean|          null| 3.901600582029829|3.5863495816660604| 4.669710860767552|  null|\n",
            "| stddev|          null|1.4562449004745772| 37.37964346362367|40.265364601964315|  null|\n",
            "|    min|R100044O1POV5X|                 1|                 0|                 0|     N|\n",
            "|    max|  RZZZQPVDV7RK|                 5|             10020|             10462|     N|\n",
            "+-------+--------------+------------------+------------------+------------------+------+\n",
            "\n"
          ],
          "name": "stdout"
        }
      ]
    },
    {
      "cell_type": "markdown",
      "metadata": {
        "id": "bi1CK-eea9uw"
      },
      "source": [
        "## **Direct comparison of percentage of 5-star reviews (vine_review_df vs non_vine_review_df)**"
      ]
    },
    {
      "cell_type": "markdown",
      "metadata": {
        "id": "LBCwS9DAa-Ab"
      },
      "source": [
        "### Vine reviews"
      ]
    },
    {
      "cell_type": "code",
      "metadata": {
        "id": "JJO6YwmNbKV8",
        "colab": {
          "base_uri": "https://localhost:8080/",
          "height": 52
        },
        "outputId": "dea4f076-a194-47d3-b1ef-c9b0950058f2"
      },
      "source": [
        "# Get percentage of 5-star reviews: Vine\n",
        "vine_five_star_count = vine_review_df.filter(vine_review_df['star_rating']==5).count()\n",
        "vine_count = 2106\n",
        "vine_five_star_percent = vine_five_star_count / vine_count * 100\n",
        "print(vine_five_star_count)\n",
        "print(vine_five_star_percent)"
      ],
      "execution_count": null,
      "outputs": [
        {
          "output_type": "stream",
          "text": [
            "854\n",
            "40.55080721747388\n"
          ],
          "name": "stdout"
        }
      ]
    },
    {
      "cell_type": "markdown",
      "metadata": {
        "id": "yS86-C3VbOx5"
      },
      "source": [
        "### Non-Vine reviews"
      ]
    },
    {
      "cell_type": "code",
      "metadata": {
        "id": "jIM179hwbRjc",
        "colab": {
          "base_uri": "https://localhost:8080/",
          "height": 52
        },
        "outputId": "da783e90-e0bc-4993-cf7d-3379a8e60782"
      },
      "source": [
        "# Get percentage of 5-star reviews: Non-Vine\n",
        "non_vine_five_star_count = non_vine_review_df.filter(non_vine_review_df['star_rating']==5).count()\n",
        "nonvine_count = 703744\n",
        "non_vine_five_star_percent = non_vine_five_star_count / nonvine_count * 100\n",
        "print(non_vine_five_star_count)\n",
        "print(non_vine_five_star_percent)"
      ],
      "execution_count": null,
      "outputs": [
        {
          "output_type": "stream",
          "text": [
            "373107\n",
            "53.01743247544562\n"
          ],
          "name": "stdout"
        }
      ]
    },
    {
      "cell_type": "markdown",
      "metadata": {
        "id": "TzE4P0lqdYAL"
      },
      "source": [
        "Based on percentage, it seems that non-vine reviewers give 5-star ratings more often than the vine reviewers; however, the number of vine reviewers is substancially smaller. Given the difference in number of observations, it would be of greater value to run t-tests to see if it can be concluded that vine reviewers are similar to to regular reviewers. The next section includes this analysis."
      ]
    },
    {
      "cell_type": "markdown",
      "metadata": {
        "id": "O9hn3bR5aVMi"
      },
      "source": [
        "## **Run t tests for helpful_votes and star_rating to see if vine data is biased**\n",
        "This will be calculated somewhat manually (using values obtained from the summary statistics for each table and manual calculations) since there is no quick method to run a t-test in pySpark."
      ]
    },
    {
      "cell_type": "code",
      "metadata": {
        "id": "h36jruSMaV4C"
      },
      "source": [
        "from scipy import stats\n",
        "import math"
      ],
      "execution_count": null,
      "outputs": []
    },
    {
      "cell_type": "markdown",
      "metadata": {
        "id": "2UYu6OiOaff-"
      },
      "source": [
        "###**t test for means of helpful_reviews from vine_review_df and non_vine_review_df**\n",
        "Null Hypothesis - The average number of helpful votes from the vine_review_df data is equal to that of the non_vine_review_df\n",
        "\n",
        "Alternate Hypothesis - The average number of helpful votes from the vine_review_df data is not equal to that of the non_vine_review_df"
      ]
    },
    {
      "cell_type": "code",
      "metadata": {
        "id": "DrURI4alajlq",
        "colab": {
          "base_uri": "https://localhost:8080/",
          "height": 35
        },
        "outputId": "b15d5850-3419-4b56-82bf-e2697ff90659"
      },
      "source": [
        "# Perform t test for means of helpful_votes from vine_review_df and non_vine_review_df\n",
        "\n",
        "# Get values from summary stats dfs:\n",
        "avg_helpful_votes_vine = 11.934947768281102\n",
        "stddev_helpful_votes_vine = 53.570847213619054\n",
        "vine_count = 2106\n",
        "\n",
        "avg_helpful_votes_nonvine = 3.5863495816660604\n",
        "stddev_helpful_votes_nonvine = 37.37964346362367\n",
        "nonvine_count = 703744\n",
        "\n",
        "# Calculate t-value: t_value = (mean(X1) - mean(X2)) / sqrt((std1 / sqrt(n1))^2 + (std2 / sqrt(n2))^2)\n",
        "t_value = (avg_helpful_votes_vine - avg_helpful_votes_nonvine) / math.sqrt((stddev_helpful_votes_vine / math.sqrt(vine_count))**2 + (stddev_helpful_votes_nonvine / math.sqrt(nonvine_count))**2)\n",
        "\n",
        "# Calculate degrees of freedom: degrees of freedom = n1 + n2 - 2\n",
        "deg_freedom = vine_count + nonvine_count -2\n",
        "\n",
        "# Calculate p-value: p_value = (1 - stats.t.cdf(abs(t_value), deg_freedom)) * 2\n",
        "p_value = (1 - stats.t.cdf(abs(t_value), deg_freedom)) * 2\n",
        "p_value"
      ],
      "execution_count": null,
      "outputs": [
        {
          "output_type": "execute_result",
          "data": {
            "text/plain": [
              "8.906209103543006e-13"
            ]
          },
          "metadata": {
            "tags": []
          },
          "execution_count": 9
        }
      ]
    },
    {
      "cell_type": "markdown",
      "metadata": {
        "id": "eqAu-gK2atAH"
      },
      "source": [
        "With a p-value of 8.91e-13, there is sufficient evidence to reject the null hypothesis at a 95% confidence interval. Therefore the mean helpful_votes of the vine_reviews is statistically different from the nonvine_review_df helpful_votes mean. This implies that the vine_review_df data is not representative of the population since the means are different and the p-value is low enough to be confident that these results were not due to chance."
      ]
    },
    {
      "cell_type": "markdown",
      "metadata": {
        "id": "HBsLMcm6awNF"
      },
      "source": [
        "### **t test for means of star_rating from vine_review_df and non_vine_review_df**\n",
        "Null Hypothesis - The average star rating from the vine_review_df data is equal to that of the nonvine_review_df\n",
        "\n",
        "Alternate Hypothesis - The average star rating from the vine_review_df data is not equal to that of the nonvine_review_df"
      ]
    },
    {
      "cell_type": "code",
      "metadata": {
        "id": "Xa_WU6Riatvg",
        "colab": {
          "base_uri": "https://localhost:8080/",
          "height": 35
        },
        "outputId": "84adb254-8174-4223-8ddc-207354a192a3"
      },
      "source": [
        "# Perform t test for means of star_rating from vine_review_df and non_vine_review_df\n",
        "\n",
        "# Get values from summary stats dfs:\n",
        "avg_star_rating_vine = 4.073599240265907\n",
        "stddev_star_rating_vine = 0.9862696623724604\n",
        "vine_count = 2106\n",
        "\n",
        "avg_star_rating_nonvine = 3.901600582029829\n",
        "stddev_star_rating_nonvine = 1.4562449004745772\n",
        "nonvine_count = 703744\n",
        "\n",
        "# Calculate t-value: t_value = (mean(X1) - mean(X2)) / sqrt((std1 / sqrt(n1))^2 + (std2 / sqrt(n2))^2)\n",
        "t_value = (avg_star_rating_vine - avg_star_rating_nonvine) / math.sqrt((stddev_star_rating_vine / math.sqrt(vine_count))**2 + (stddev_star_rating_nonvine / math.sqrt(nonvine_count))**2)\n",
        "\n",
        "# Calculate degrees of freedom: degrees of freedom = n1 + n2 - 2\n",
        "deg_freedom = vine_count + nonvine_count -2\n",
        "\n",
        "# Calculate p-value: p_value = (1 - stats.t.cdf(abs(t_value), deg_freedom)) * 2\n",
        "p_value = (1 - stats.t.cdf(abs(t_value), deg_freedom)) * 2\n",
        "p_value"
      ],
      "execution_count": null,
      "outputs": [
        {
          "output_type": "execute_result",
          "data": {
            "text/plain": [
              "1.5543122344752192e-15"
            ]
          },
          "metadata": {
            "tags": []
          },
          "execution_count": 10
        }
      ]
    },
    {
      "cell_type": "markdown",
      "metadata": {
        "id": "4VwQvHi_a4JV"
      },
      "source": [
        "With a p-value of 1.55e-15, there is sufficient evidence to reject the null hypothesis at a 95% confidence interval. Therefore the mean star_rating of the vine_reviews is statistically different from the nonvine_review_df star_rating mean. This implies that the vine_review_df data is not representative of the population since the means are different and the p-value is low enough to be confident that these results were not due to chance."
      ]
    },
    {
      "cell_type": "code",
      "metadata": {
        "id": "sLPf4S-Mc2Rx"
      },
      "source": [
        ""
      ],
      "execution_count": null,
      "outputs": []
    }
  ]
}