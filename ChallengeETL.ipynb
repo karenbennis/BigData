{
  "nbformat": 4,
  "nbformat_minor": 0,
  "metadata": {
    "colab": {
      "name": "ChallengeETL.ipynb",
      "provenance": [],
      "collapsed_sections": [],
      "authorship_tag": "ABX9TyOuGe0l4VfFRt7IzKoZ5ZLm",
      "include_colab_link": true
    },
    "kernelspec": {
      "name": "python3",
      "display_name": "Python 3"
    }
  },
  "cells": [
    {
      "cell_type": "markdown",
      "metadata": {
        "id": "view-in-github",
        "colab_type": "text"
      },
      "source": [
        "<a href=\"https://colab.research.google.com/github/karenbennis/BigData/blob/master/ChallengeETL.ipynb\" target=\"_parent\"><img src=\"https://colab.research.google.com/assets/colab-badge.svg\" alt=\"Open In Colab\"/></a>"
      ]
    },
    {
      "cell_type": "code",
      "metadata": {
        "id": "D7jCAtn8B9Tk"
      },
      "source": [
        "# Install Java, Spark, and Findspark\n",
        "!apt-get install openjdk-8-jdk-headless -qq > /dev/null\n",
        "!wget -q http://www-us.apache.org/dist/spark/spark-2.4.5/spark-2.4.5-bin-hadoop2.7.tgz\n",
        "!tar xf spark-2.4.5-bin-hadoop2.7.tgz\n",
        "!pip install -q findspark\n",
        "\n",
        "# Set Environment Variables\n",
        "import os\n",
        "os.environ[\"JAVA_HOME\"] = \"/usr/lib/jvm/java-8-openjdk-amd64\"\n",
        "os.environ[\"SPARK_HOME\"] = \"/content/spark-2.4.5-bin-hadoop2.7\"\n",
        "\n",
        "# Start a SparkSession\n",
        "import findspark\n",
        "findspark.init()"
      ],
      "execution_count": null,
      "outputs": []
    },
    {
      "cell_type": "code",
      "metadata": {
        "id": "gFHGIFBJCFYe",
        "colab": {
          "base_uri": "https://localhost:8080/",
          "height": 208
        },
        "outputId": "50d48dc3-0613-43b3-a49e-97281e43c9fb"
      },
      "source": [
        "# Download a Postgres driver that will allow Spark to interact with Postgres\n",
        "!wget https://jdbc.postgresql.org/download/postgresql-42.2.9.jar"
      ],
      "execution_count": null,
      "outputs": [
        {
          "output_type": "stream",
          "text": [
            "--2020-06-13 20:05:26--  https://jdbc.postgresql.org/download/postgresql-42.2.9.jar\n",
            "Resolving jdbc.postgresql.org (jdbc.postgresql.org)... 72.32.157.228, 2001:4800:3e1:1::228\n",
            "Connecting to jdbc.postgresql.org (jdbc.postgresql.org)|72.32.157.228|:443... connected.\n",
            "HTTP request sent, awaiting response... 200 OK\n",
            "Length: 914037 (893K) [application/java-archive]\n",
            "Saving to: ‘postgresql-42.2.9.jar.2’\n",
            "\n",
            "postgresql-42.2.9.j 100%[===================>] 892.61K  1.04MB/s    in 0.8s    \n",
            "\n",
            "2020-06-13 20:05:28 (1.04 MB/s) - ‘postgresql-42.2.9.jar.2’ saved [914037/914037]\n",
            "\n"
          ],
          "name": "stdout"
        }
      ]
    },
    {
      "cell_type": "code",
      "metadata": {
        "id": "x3zE-7aOCIzO"
      },
      "source": [
        "from pyspark.sql import SparkSession\n",
        "spark = SparkSession.builder.appName(\"ChallengeETL\").config(\"spark.driver.extraClassPath\",\"/content/postgresql-42.2.9.jar\").getOrCreate()"
      ],
      "execution_count": null,
      "outputs": []
    },
    {
      "cell_type": "code",
      "metadata": {
        "id": "JN0rMGOpCL0-",
        "colab": {
          "base_uri": "https://localhost:8080/",
          "height": 488
        },
        "outputId": "866bc702-827d-43f6-ff4b-3c236813f5a4"
      },
      "source": [
        "# Read in user_data from S3 Buckets\n",
        "from pyspark import SparkFiles\n",
        "url = \"https://karenbennis-bucket.s3.us-east-2.amazonaws.com/Datasets/amazon_reviews_us_Home_Entertainment_v1_00.tsv.gz\"\n",
        "spark.sparkContext.addFile(url)\n",
        "amazon_reviews_df = spark.read.csv(SparkFiles.get(\"amazon_reviews_us_Home_Entertainment_v1_00.tsv.gz\"), sep=\"\\t\", header=True, inferSchema=True)\n",
        "\n",
        "# Show DataFrame\n",
        "amazon_reviews_df.show()"
      ],
      "execution_count": null,
      "outputs": [
        {
          "output_type": "stream",
          "text": [
            "+-----------+-----------+--------------+----------+--------------+--------------------+------------------+-----------+-------------+-----------+----+-----------------+--------------------+--------------------+-------------------+\n",
            "|marketplace|customer_id|     review_id|product_id|product_parent|       product_title|  product_category|star_rating|helpful_votes|total_votes|vine|verified_purchase|     review_headline|         review_body|        review_date|\n",
            "+-----------+-----------+--------------+----------+--------------+--------------------+------------------+-----------+-------------+-----------+----+-----------------+--------------------+--------------------+-------------------+\n",
            "|         US|     179886| RY01SAV7HZ8QO|B00NTI0CQ2|     667358431|Aketek 1080P LED ...|Home Entertainment|          4|            0|          0|   N|                Y|good enough for m...|not the best pict...|2015-08-31 00:00:00|\n",
            "|         US|   37293769|R1XX8SDGJ4MZ4L|B00BUCLVZU|     621695622|TiVo Mini with IR...|Home Entertainment|          5|            0|          0|   N|                N|Tell the Cable Co...|Not only do my Ti...|2015-08-31 00:00:00|\n",
            "|         US|    8332121|R149Q3B5L33NN5|B00RBX9D5W|     143071132|Apple TV MD199LL/...|Home Entertainment|          5|            0|          0|   N|                Y|    Works perfectly!|Works perfectly! ...|2015-08-31 00:00:00|\n",
            "|         US|   47054962|R2ZVD69Z6KPJ4O|B00UJ3IULO|     567816707|New Roku 3 6.5 Fo...|Home Entertainment|          1|            0|          2|   N|                Y|It doesn't work. ...|It doesn't work. ...|2015-08-31 00:00:00|\n",
            "|         US|   23413911|R1DIKG2G33ZLNP|B0037UCTXG|     909557698|Generic DVI-I Dua...|Home Entertainment|          4|            0|          0|   N|                Y|         As pictured|I received the it...|2015-08-31 00:00:00|\n",
            "|         US|    4417771|R3L6FGKAW0EYFI|B004N866SU|     414565179|Samsung 3D LED HD...|Home Entertainment|          1|            1|          1|   N|                N|Only lasts 3-4 ye...|I bought this TV ...|2015-08-31 00:00:00|\n",
            "|         US|   47900707| RAO0QZH5VC6VI|B00JE6AOJS|     798450889|Jiake Wireless Bl...|Home Entertainment|          1|            0|          0|   N|                Y|            One Star|    Waste of $$$$$$$|2015-08-31 00:00:00|\n",
            "|         US|   34112894|R25IK0UAHWNB22|B00COL0B7A|     777554234|3pcs/lot 3in1 3ft...|Home Entertainment|          3|            0|          0|   N|                Y|         Three Stars|Nice but all thre...|2015-08-31 00:00:00|\n",
            "|         US|   20691979|R2A9IHKZMTMAL1|B00QHLSKOE|     885228855|Matricom G-Box Q²...|Home Entertainment|          5|            1|          2|   N|                Y|Yes...exactly wha...|Oh, yeah...doesn'...|2015-08-31 00:00:00|\n",
            "|         US|   25983343| R5XVKTHL6SITI|B00UNL2MUW|     164482798|VIZIO S2920W-C0B ...|Home Entertainment|          5|            0|          0|   N|                Y|Fantastic sound. ...|Fantastic sound. ...|2015-08-31 00:00:00|\n",
            "|         US|   35816068|R2QZZOSTDDY1IE|B00RIC9JB4|     184834831|Hitachi 49\" Class...|Home Entertainment|          3|            3|          6|   N|                Y|               risky|Great tv but Tv d...|2015-08-31 00:00:00|\n",
            "|         US|   10628020|R38CUDCFPSNYTD|B00HPMCO6O|     444378461|Sony BDPS5200 3D ...|Home Entertainment|          5|            0|          0|   N|                Y|          Five Stars|EXCELLENT SERVICE...|2015-08-31 00:00:00|\n",
            "|         US|    9059625| RM6ZR6NH052YH|B004QGXWS6|     770226547|Sylvania 7-Inch T...|Home Entertainment|          3|            1|          2|   N|                Y|They worked great...|They worked great...|2015-08-31 00:00:00|\n",
            "|         US|    2681147| RUQK5N4WH8UN8|B00FO12XY6|     448806082|Roku HD Streaming...|Home Entertainment|          5|            0|          0|   N|                Y|          Five Stars|Smooth and worked...|2015-08-31 00:00:00|\n",
            "|         US|   33449922|R21LWSBQWWJYZ3|B00BD7UVO4|     374427271|LG Electronics BP...|Home Entertainment|          5|            0|          0|   N|                Y|          Five Stars|     Works very well|2015-08-31 00:00:00|\n",
            "|         US|   43069144| R8W5S53RQ2DF7|B00TRQPEYK|     614207013|LG Electronics LF...|Home Entertainment|          5|            0|          0|   N|                Y|               LG TV|The TV arrived qu...|2015-08-31 00:00:00|\n",
            "|         US|   46780686|R3ENME3JQBWXZS|B005STXQG8|     689442799|SquareTrade TV Pr...|Home Entertainment|          5|            0|          1|   N|                Y|          Five Stars|well worth the mo...|2015-08-31 00:00:00|\n",
            "|         US|   49037595|R3URL5K7DHHYK7|B00BEL11RA|     910670994|Cambridge - Azur ...|Home Entertainment|          5|            1|          1|   N|                Y|            Love it.|Great Blu-ray pla...|2015-08-31 00:00:00|\n",
            "|         US|   27868511|R22YISZKS35YZX|B00QHLSKOE|     885228855|Matricom G-Box Q²...|Home Entertainment|          5|            2|          3|   N|                Y|If your on the fe...|Great media cente...|2015-08-31 00:00:00|\n",
            "|         US|    3004043|R3IIOLWHWC297U|B00MWCJ8VQ|     946374680|Roku 3500XB Strea...|Home Entertainment|          5|            0|          0|   N|                Y|          Five Stars|       great product|2015-08-31 00:00:00|\n",
            "+-----------+-----------+--------------+----------+--------------+--------------------+------------------+-----------+-------------+-----------+----+-----------------+--------------------+--------------------+-------------------+\n",
            "only showing top 20 rows\n",
            "\n"
          ],
          "name": "stdout"
        }
      ]
    },
    {
      "cell_type": "code",
      "metadata": {
        "id": "g9exeJ70Rx3x",
        "colab": {
          "base_uri": "https://localhost:8080/",
          "height": 35
        },
        "outputId": "09b5c5b4-cd7d-4c98-9c42-ba23286b7328"
      },
      "source": [
        "# Count number of rows\n",
        "row_number = amazon_reviews_df.count()\n",
        "row_number"
      ],
      "execution_count": null,
      "outputs": [
        {
          "output_type": "execute_result",
          "data": {
            "text/plain": [
              "705889"
            ]
          },
          "metadata": {
            "tags": []
          },
          "execution_count": 5
        }
      ]
    },
    {
      "cell_type": "code",
      "metadata": {
        "id": "B9OEYr3UERNY",
        "colab": {
          "base_uri": "https://localhost:8080/",
          "height": 505
        },
        "outputId": "3853c5ab-d9a7-447b-deb7-2f4ab48b6aed"
      },
      "source": [
        "# Drop null values\n",
        "dropna_df = amazon_reviews_df.dropna()\n",
        "dropna_df.show()\n",
        "# Count number of rows\n",
        "row_number = dropna_df.count()\n",
        "row_number"
      ],
      "execution_count": null,
      "outputs": [
        {
          "output_type": "stream",
          "text": [
            "+-----------+-----------+--------------+----------+--------------+--------------------+------------------+-----------+-------------+-----------+----+-----------------+--------------------+--------------------+-------------------+\n",
            "|marketplace|customer_id|     review_id|product_id|product_parent|       product_title|  product_category|star_rating|helpful_votes|total_votes|vine|verified_purchase|     review_headline|         review_body|        review_date|\n",
            "+-----------+-----------+--------------+----------+--------------+--------------------+------------------+-----------+-------------+-----------+----+-----------------+--------------------+--------------------+-------------------+\n",
            "|         US|     179886| RY01SAV7HZ8QO|B00NTI0CQ2|     667358431|Aketek 1080P LED ...|Home Entertainment|          4|            0|          0|   N|                Y|good enough for m...|not the best pict...|2015-08-31 00:00:00|\n",
            "|         US|   37293769|R1XX8SDGJ4MZ4L|B00BUCLVZU|     621695622|TiVo Mini with IR...|Home Entertainment|          5|            0|          0|   N|                N|Tell the Cable Co...|Not only do my Ti...|2015-08-31 00:00:00|\n",
            "|         US|    8332121|R149Q3B5L33NN5|B00RBX9D5W|     143071132|Apple TV MD199LL/...|Home Entertainment|          5|            0|          0|   N|                Y|    Works perfectly!|Works perfectly! ...|2015-08-31 00:00:00|\n",
            "|         US|   47054962|R2ZVD69Z6KPJ4O|B00UJ3IULO|     567816707|New Roku 3 6.5 Fo...|Home Entertainment|          1|            0|          2|   N|                Y|It doesn't work. ...|It doesn't work. ...|2015-08-31 00:00:00|\n",
            "|         US|   23413911|R1DIKG2G33ZLNP|B0037UCTXG|     909557698|Generic DVI-I Dua...|Home Entertainment|          4|            0|          0|   N|                Y|         As pictured|I received the it...|2015-08-31 00:00:00|\n",
            "|         US|    4417771|R3L6FGKAW0EYFI|B004N866SU|     414565179|Samsung 3D LED HD...|Home Entertainment|          1|            1|          1|   N|                N|Only lasts 3-4 ye...|I bought this TV ...|2015-08-31 00:00:00|\n",
            "|         US|   47900707| RAO0QZH5VC6VI|B00JE6AOJS|     798450889|Jiake Wireless Bl...|Home Entertainment|          1|            0|          0|   N|                Y|            One Star|    Waste of $$$$$$$|2015-08-31 00:00:00|\n",
            "|         US|   34112894|R25IK0UAHWNB22|B00COL0B7A|     777554234|3pcs/lot 3in1 3ft...|Home Entertainment|          3|            0|          0|   N|                Y|         Three Stars|Nice but all thre...|2015-08-31 00:00:00|\n",
            "|         US|   20691979|R2A9IHKZMTMAL1|B00QHLSKOE|     885228855|Matricom G-Box Q²...|Home Entertainment|          5|            1|          2|   N|                Y|Yes...exactly wha...|Oh, yeah...doesn'...|2015-08-31 00:00:00|\n",
            "|         US|   25983343| R5XVKTHL6SITI|B00UNL2MUW|     164482798|VIZIO S2920W-C0B ...|Home Entertainment|          5|            0|          0|   N|                Y|Fantastic sound. ...|Fantastic sound. ...|2015-08-31 00:00:00|\n",
            "|         US|   35816068|R2QZZOSTDDY1IE|B00RIC9JB4|     184834831|Hitachi 49\" Class...|Home Entertainment|          3|            3|          6|   N|                Y|               risky|Great tv but Tv d...|2015-08-31 00:00:00|\n",
            "|         US|   10628020|R38CUDCFPSNYTD|B00HPMCO6O|     444378461|Sony BDPS5200 3D ...|Home Entertainment|          5|            0|          0|   N|                Y|          Five Stars|EXCELLENT SERVICE...|2015-08-31 00:00:00|\n",
            "|         US|    9059625| RM6ZR6NH052YH|B004QGXWS6|     770226547|Sylvania 7-Inch T...|Home Entertainment|          3|            1|          2|   N|                Y|They worked great...|They worked great...|2015-08-31 00:00:00|\n",
            "|         US|    2681147| RUQK5N4WH8UN8|B00FO12XY6|     448806082|Roku HD Streaming...|Home Entertainment|          5|            0|          0|   N|                Y|          Five Stars|Smooth and worked...|2015-08-31 00:00:00|\n",
            "|         US|   33449922|R21LWSBQWWJYZ3|B00BD7UVO4|     374427271|LG Electronics BP...|Home Entertainment|          5|            0|          0|   N|                Y|          Five Stars|     Works very well|2015-08-31 00:00:00|\n",
            "|         US|   43069144| R8W5S53RQ2DF7|B00TRQPEYK|     614207013|LG Electronics LF...|Home Entertainment|          5|            0|          0|   N|                Y|               LG TV|The TV arrived qu...|2015-08-31 00:00:00|\n",
            "|         US|   46780686|R3ENME3JQBWXZS|B005STXQG8|     689442799|SquareTrade TV Pr...|Home Entertainment|          5|            0|          1|   N|                Y|          Five Stars|well worth the mo...|2015-08-31 00:00:00|\n",
            "|         US|   49037595|R3URL5K7DHHYK7|B00BEL11RA|     910670994|Cambridge - Azur ...|Home Entertainment|          5|            1|          1|   N|                Y|            Love it.|Great Blu-ray pla...|2015-08-31 00:00:00|\n",
            "|         US|   27868511|R22YISZKS35YZX|B00QHLSKOE|     885228855|Matricom G-Box Q²...|Home Entertainment|          5|            2|          3|   N|                Y|If your on the fe...|Great media cente...|2015-08-31 00:00:00|\n",
            "|         US|    3004043|R3IIOLWHWC297U|B00MWCJ8VQ|     946374680|Roku 3500XB Strea...|Home Entertainment|          5|            0|          0|   N|                Y|          Five Stars|       great product|2015-08-31 00:00:00|\n",
            "+-----------+-----------+--------------+----------+--------------+--------------------+------------------+-----------+-------------+-----------+----+-----------------+--------------------+--------------------+-------------------+\n",
            "only showing top 20 rows\n",
            "\n"
          ],
          "name": "stdout"
        },
        {
          "output_type": "execute_result",
          "data": {
            "text/plain": [
              "705850"
            ]
          },
          "metadata": {
            "tags": []
          },
          "execution_count": 6
        }
      ]
    },
    {
      "cell_type": "code",
      "metadata": {
        "id": "LK9upQotjyEb",
        "colab": {
          "base_uri": "https://localhost:8080/",
          "height": 468
        },
        "outputId": "ddbdf28c-88e9-4ddc-fe02-a2e69afe2272"
      },
      "source": [
        "# Get count of customer_id\n",
        "customer_df = dropna_df.groupBy(\"customer_id\").count()\n",
        "customer_df.show()"
      ],
      "execution_count": null,
      "outputs": [
        {
          "output_type": "stream",
          "text": [
            "+-----------+-----+\n",
            "|customer_id|count|\n",
            "+-----------+-----+\n",
            "|   10142992|    1|\n",
            "|   16457323|    6|\n",
            "|   11935383|    1|\n",
            "|   46277736|    1|\n",
            "|   13671072|    1|\n",
            "|   21453814|    1|\n",
            "|   17684885|    1|\n",
            "|   20415768|    1|\n",
            "|   15212710|    1|\n",
            "|    5220924|    1|\n",
            "|   46253451|    6|\n",
            "|     971908|    1|\n",
            "|   32829933|    1|\n",
            "|   51221518|    1|\n",
            "|   12002637|    2|\n",
            "|   16105308|    1|\n",
            "|     135867|    1|\n",
            "|   47425808|    1|\n",
            "|   43138273|    1|\n",
            "|   16411995|    1|\n",
            "+-----------+-----+\n",
            "only showing top 20 rows\n",
            "\n"
          ],
          "name": "stdout"
        }
      ]
    },
    {
      "cell_type": "code",
      "metadata": {
        "id": "FdN5SV28jyxz",
        "colab": {
          "base_uri": "https://localhost:8080/",
          "height": 468
        },
        "outputId": "97c2eafa-236d-4678-c1ed-141a9c2850dd"
      },
      "source": [
        "# Create customer dataframe to match customer table\n",
        "customer_df = customer_df.withColumnRenamed(existing='count', new='customer_count')\n",
        "customer_df.show()"
      ],
      "execution_count": null,
      "outputs": [
        {
          "output_type": "stream",
          "text": [
            "+-----------+--------------+\n",
            "|customer_id|customer_count|\n",
            "+-----------+--------------+\n",
            "|   10142992|             1|\n",
            "|   16457323|             6|\n",
            "|   11935383|             1|\n",
            "|   46277736|             1|\n",
            "|   13671072|             1|\n",
            "|   21453814|             1|\n",
            "|   17684885|             1|\n",
            "|   20415768|             1|\n",
            "|   15212710|             1|\n",
            "|    5220924|             1|\n",
            "|   46253451|             6|\n",
            "|     971908|             1|\n",
            "|   32829933|             1|\n",
            "|   51221518|             1|\n",
            "|   12002637|             2|\n",
            "|   16105308|             1|\n",
            "|     135867|             1|\n",
            "|   47425808|             1|\n",
            "|   43138273|             1|\n",
            "|   16411995|             1|\n",
            "+-----------+--------------+\n",
            "only showing top 20 rows\n",
            "\n"
          ],
          "name": "stdout"
        }
      ]
    },
    {
      "cell_type": "code",
      "metadata": {
        "id": "6DxZzTu8Mo3s",
        "colab": {
          "base_uri": "https://localhost:8080/",
          "height": 468
        },
        "outputId": "26a31d30-8825-459c-e2a7-5ab2a9213dd0"
      },
      "source": [
        "# Create review_id dataframe to match review_id table\n",
        "review_id_df = dropna_df.select([\"review_id\", \"customer_id\", \"product_id\", \"product_parent\", \"review_date\"])\n",
        "review_id_df.show()"
      ],
      "execution_count": null,
      "outputs": [
        {
          "output_type": "stream",
          "text": [
            "+--------------+-----------+----------+--------------+-------------------+\n",
            "|     review_id|customer_id|product_id|product_parent|        review_date|\n",
            "+--------------+-----------+----------+--------------+-------------------+\n",
            "| RY01SAV7HZ8QO|     179886|B00NTI0CQ2|     667358431|2015-08-31 00:00:00|\n",
            "|R1XX8SDGJ4MZ4L|   37293769|B00BUCLVZU|     621695622|2015-08-31 00:00:00|\n",
            "|R149Q3B5L33NN5|    8332121|B00RBX9D5W|     143071132|2015-08-31 00:00:00|\n",
            "|R2ZVD69Z6KPJ4O|   47054962|B00UJ3IULO|     567816707|2015-08-31 00:00:00|\n",
            "|R1DIKG2G33ZLNP|   23413911|B0037UCTXG|     909557698|2015-08-31 00:00:00|\n",
            "|R3L6FGKAW0EYFI|    4417771|B004N866SU|     414565179|2015-08-31 00:00:00|\n",
            "| RAO0QZH5VC6VI|   47900707|B00JE6AOJS|     798450889|2015-08-31 00:00:00|\n",
            "|R25IK0UAHWNB22|   34112894|B00COL0B7A|     777554234|2015-08-31 00:00:00|\n",
            "|R2A9IHKZMTMAL1|   20691979|B00QHLSKOE|     885228855|2015-08-31 00:00:00|\n",
            "| R5XVKTHL6SITI|   25983343|B00UNL2MUW|     164482798|2015-08-31 00:00:00|\n",
            "|R2QZZOSTDDY1IE|   35816068|B00RIC9JB4|     184834831|2015-08-31 00:00:00|\n",
            "|R38CUDCFPSNYTD|   10628020|B00HPMCO6O|     444378461|2015-08-31 00:00:00|\n",
            "| RM6ZR6NH052YH|    9059625|B004QGXWS6|     770226547|2015-08-31 00:00:00|\n",
            "| RUQK5N4WH8UN8|    2681147|B00FO12XY6|     448806082|2015-08-31 00:00:00|\n",
            "|R21LWSBQWWJYZ3|   33449922|B00BD7UVO4|     374427271|2015-08-31 00:00:00|\n",
            "| R8W5S53RQ2DF7|   43069144|B00TRQPEYK|     614207013|2015-08-31 00:00:00|\n",
            "|R3ENME3JQBWXZS|   46780686|B005STXQG8|     689442799|2015-08-31 00:00:00|\n",
            "|R3URL5K7DHHYK7|   49037595|B00BEL11RA|     910670994|2015-08-31 00:00:00|\n",
            "|R22YISZKS35YZX|   27868511|B00QHLSKOE|     885228855|2015-08-31 00:00:00|\n",
            "|R3IIOLWHWC297U|    3004043|B00MWCJ8VQ|     946374680|2015-08-31 00:00:00|\n",
            "+--------------+-----------+----------+--------------+-------------------+\n",
            "only showing top 20 rows\n",
            "\n"
          ],
          "name": "stdout"
        }
      ]
    },
    {
      "cell_type": "code",
      "metadata": {
        "id": "li18q6aeNxEk",
        "colab": {
          "base_uri": "https://localhost:8080/",
          "height": 468
        },
        "outputId": "8d1e0979-8189-4082-b1cd-975b8788c91f"
      },
      "source": [
        "# Create products dataframe to match products table\n",
        "products_df = dropna_df.select([\"product_id\", \"product_title\"])\n",
        "\n",
        "# Drop duplicates of 'product_id'\n",
        "products_df = products_df.dropDuplicates(['product_id'])\n",
        "products_df.show()"
      ],
      "execution_count": null,
      "outputs": [
        {
          "output_type": "stream",
          "text": [
            "+----------+--------------------+\n",
            "|product_id|       product_title|\n",
            "+----------+--------------------+\n",
            "|9967354976|Professional Retr...|\n",
            "|B00000J025|RCA VR552 4-Head VCR|\n",
            "|B00004YK3Q|Sylvania DVL500A ...|\n",
            "|B00005NGRU|Toshiba 50H81 50-...|\n",
            "|B00005U231|Sony KV36XBR450 3...|\n",
            "|B000065UTY|Panasonic CT-27SX...|\n",
            "|B00006CFLW|Hitachi 57XWX20B ...|\n",
            "|B000093URS|Toshiba 65H93 65-...|\n",
            "|B0000BZH5T|RCA 27F530T 27\" T...|\n",
            "|B00021Z98A|Panasonic DVD-LS5...|\n",
            "|B0002IYMT0|Eveready 455 Carb...|\n",
            "|B0002KQR3C|Samsung TX-P2675W...|\n",
            "|B0002ZPTVS|Acoustic Wall Til...|\n",
            "|B0002ZQGRY|Virgin Mobile Kyo...|\n",
            "|B0006HJII2|Virtual Fx Conver...|\n",
            "|B00078XIW2|Pioneer PDP4345HD...|\n",
            "|B00080FPSE|Sony DVP-NC80V/S ...|\n",
            "|B0009HGXT6|Lilliput 8\" LCD M...|\n",
            "|B0009KEYTO|Pioneer DVR-233S ...|\n",
            "|B0009X47O8|Samsung DVD-VR325...|\n",
            "+----------+--------------------+\n",
            "only showing top 20 rows\n",
            "\n"
          ],
          "name": "stdout"
        }
      ]
    },
    {
      "cell_type": "code",
      "metadata": {
        "id": "74a0G4OT1lFU",
        "colab": {
          "base_uri": "https://localhost:8080/",
          "height": 35
        },
        "outputId": "1de657f9-f468-446b-a6a3-0340ba4c253d"
      },
      "source": [
        "products_df.count()"
      ],
      "execution_count": null,
      "outputs": [
        {
          "output_type": "execute_result",
          "data": {
            "text/plain": [
              "44810"
            ]
          },
          "metadata": {
            "tags": []
          },
          "execution_count": 11
        }
      ]
    },
    {
      "cell_type": "code",
      "metadata": {
        "id": "KJmt1JBoQayy",
        "colab": {
          "base_uri": "https://localhost:8080/",
          "height": 468
        },
        "outputId": "ce76a1e6-4687-480d-be57-de5e07f27d2c"
      },
      "source": [
        "# Create vine dataframe to match vine table\n",
        "vine_df = dropna_df.select([\"review_id\", \"star_rating\", \"helpful_votes\", \"total_votes\", \"vine\"])\n",
        "vine_df.show()"
      ],
      "execution_count": null,
      "outputs": [
        {
          "output_type": "stream",
          "text": [
            "+--------------+-----------+-------------+-----------+----+\n",
            "|     review_id|star_rating|helpful_votes|total_votes|vine|\n",
            "+--------------+-----------+-------------+-----------+----+\n",
            "| RY01SAV7HZ8QO|          4|            0|          0|   N|\n",
            "|R1XX8SDGJ4MZ4L|          5|            0|          0|   N|\n",
            "|R149Q3B5L33NN5|          5|            0|          0|   N|\n",
            "|R2ZVD69Z6KPJ4O|          1|            0|          2|   N|\n",
            "|R1DIKG2G33ZLNP|          4|            0|          0|   N|\n",
            "|R3L6FGKAW0EYFI|          1|            1|          1|   N|\n",
            "| RAO0QZH5VC6VI|          1|            0|          0|   N|\n",
            "|R25IK0UAHWNB22|          3|            0|          0|   N|\n",
            "|R2A9IHKZMTMAL1|          5|            1|          2|   N|\n",
            "| R5XVKTHL6SITI|          5|            0|          0|   N|\n",
            "|R2QZZOSTDDY1IE|          3|            3|          6|   N|\n",
            "|R38CUDCFPSNYTD|          5|            0|          0|   N|\n",
            "| RM6ZR6NH052YH|          3|            1|          2|   N|\n",
            "| RUQK5N4WH8UN8|          5|            0|          0|   N|\n",
            "|R21LWSBQWWJYZ3|          5|            0|          0|   N|\n",
            "| R8W5S53RQ2DF7|          5|            0|          0|   N|\n",
            "|R3ENME3JQBWXZS|          5|            0|          1|   N|\n",
            "|R3URL5K7DHHYK7|          5|            1|          1|   N|\n",
            "|R22YISZKS35YZX|          5|            2|          3|   N|\n",
            "|R3IIOLWHWC297U|          5|            0|          0|   N|\n",
            "+--------------+-----------+-------------+-----------+----+\n",
            "only showing top 20 rows\n",
            "\n"
          ],
          "name": "stdout"
        }
      ]
    },
    {
      "cell_type": "code",
      "metadata": {
        "id": "13UdhtQauiH7",
        "colab": {
          "base_uri": "https://localhost:8080/",
          "height": 35
        },
        "outputId": "8e744b17-1b0b-4134-ed26-87ea33d6b7b9"
      },
      "source": [
        "vine_df.count()"
      ],
      "execution_count": null,
      "outputs": [
        {
          "output_type": "execute_result",
          "data": {
            "text/plain": [
              "705850"
            ]
          },
          "metadata": {
            "tags": []
          },
          "execution_count": 13
        }
      ]
    },
    {
      "cell_type": "code",
      "metadata": {
        "id": "9--vfnGFQ9Z2"
      },
      "source": [
        "# Configure settings for RDS\n",
        "mode = \"append\"\n",
        "jdbc_url=\"jdbc:postgresql://dataviz.cigpctobxd5d.us-east-2.rds.amazonaws.com:5432/\"\n",
        "config = {\"user\":\"postgres\", \n",
        "          \"password\": \"jack1257\", \n",
        "          \"driver\":\"org.postgresql.Driver\"}"
      ],
      "execution_count": null,
      "outputs": []
    },
    {
      "cell_type": "code",
      "metadata": {
        "id": "TciPGCd_oSbM"
      },
      "source": [
        "# Write DataFrame to customer table in RDS\n",
        "customer_df.write.jdbc(url=jdbc_url, table='customers', mode=mode, properties=config)"
      ],
      "execution_count": null,
      "outputs": []
    },
    {
      "cell_type": "code",
      "metadata": {
        "id": "2piCes3korvo"
      },
      "source": [
        "# Write DataFrame to review_id table in RDS\n",
        "review_id_df.write.jdbc(url=jdbc_url, table='review_id_table', mode=mode, properties=config)"
      ],
      "execution_count": null,
      "outputs": []
    },
    {
      "cell_type": "code",
      "metadata": {
        "id": "mjMGdKUttBJG"
      },
      "source": [
        "# Write DataFrame to products table in RDS\n",
        "products_df.write.jdbc(url=jdbc_url, table='products', mode=mode, properties=config)"
      ],
      "execution_count": null,
      "outputs": []
    },
    {
      "cell_type": "code",
      "metadata": {
        "id": "aGO18g9GtD9w"
      },
      "source": [
        "# Write DataFrame to vine table in RDS\n",
        "vine_df.write.jdbc(url=jdbc_url, table='vine_table', mode=mode, properties=config)"
      ],
      "execution_count": null,
      "outputs": []
    },
    {
      "cell_type": "markdown",
      "metadata": {
        "id": "sUo5-oo24tvA"
      },
      "source": [
        "See Vine_table_anlaysis.ipynb for analysis on the vine_table"
      ]
    },
    {
      "cell_type": "code",
      "metadata": {
        "id": "hA_ILAYb7wVo"
      },
      "source": [
        ""
      ],
      "execution_count": null,
      "outputs": []
    }
  ]
}